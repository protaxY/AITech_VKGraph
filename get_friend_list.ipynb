{
 "cells": [
  {
   "cell_type": "code",
   "execution_count": 67,
   "metadata": {},
   "outputs": [],
   "source": [
    "import time\n",
    "from pathlib import Path\n",
    "\n",
    "import vk\n",
    "import os\n",
    "from pyvis.network import Network\n",
    "from dotenv import load_dotenv"
   ]
  },
  {
   "cell_type": "code",
   "execution_count": 68,
   "metadata": {},
   "outputs": [],
   "source": [
    "load_dotenv(Path('config/.env'))\n",
    "\n",
    "token = ''\n",
    "try:\n",
    "    token = os.environ['VK_ACCESS_TOKEN']\n",
    "except KeyError:\n",
    "    print(\"You need to enter your access token from https://vkhost.github.io/ into env VK_ACCESS_TOKEN\")\n",
    "    exit(1)\n",
    "\n",
    "vk_api = vk.API(token, v='5.131')"
   ]
  },
  {
   "cell_type": "code",
   "execution_count": 69,
   "metadata": {},
   "outputs": [],
   "source": [
    "max_friends_per_friend = 100\n",
    "def get_user_graph(user_id):\n",
    "    friends = vk_api.friends.get(user_id=user_id)['items']\n",
    "    friends_of_friends_dict = {}\n",
    "    friends_set = set()\n",
    "    friends_edges_set = set()\n",
    "\n",
    "    for friend in friends:\n",
    "        try:\n",
    "            friends_of_friends = vk_api.friends.get(user_id=friend)['items']\n",
    "        except Exception:\n",
    "            continue # если пользователь удален\n",
    "        if len(friends_of_friends) > max_friends_per_friend:\n",
    "            continue\n",
    "        friends_of_friends_dict[friend] = friends_of_friends\n",
    "        \n",
    "        friends_set.add(friend)\n",
    "        for friend_of_friend in friends_of_friends_dict[friend]:\n",
    "            friends_set.add(friend_of_friend)\n",
    "            friend_pair = [friend, friend_of_friend]\n",
    "            friend_pair.sort()\n",
    "            friends_edges_set.add(tuple(friend_pair))\n",
    "        time.sleep(0.2) # потому что ограничение на количество запросов в секунду\n",
    "\n",
    "    return friends_set, friends_edges_set"
   ]
  },
  {
   "cell_type": "code",
   "execution_count": 70,
   "metadata": {},
   "outputs": [],
   "source": [
    "id_anton = 243317609\n",
    "id_matvey = 207227130\n",
    "\n",
    "anton_friend_nodes, anton_friend_edges = get_user_graph(id_anton)\n",
    "matvey_friend_nodes, matvey_friend_edges = get_user_graph(id_matvey)"
   ]
  },
  {
   "cell_type": "code",
   "execution_count": 71,
   "metadata": {},
   "outputs": [],
   "source": [
    "friend_set = anton_friend_nodes.union(matvey_friend_nodes)\n",
    "friend_edge_set = anton_friend_edges.union(matvey_friend_edges)"
   ]
  },
  {
   "cell_type": "code",
   "execution_count": 72,
   "metadata": {},
   "outputs": [],
   "source": [
    "networkx_graph = nx.Graph()\n",
    "networkx_graph.add_nodes_from(friend_set)\n",
    "networkx_graph.add_edges_from(friend_edge_set)"
   ]
  },
  {
   "cell_type": "code",
   "execution_count": 73,
   "metadata": {},
   "outputs": [],
   "source": [
    "degree_centrality = list(nx.degree_centrality(networkx_graph).items())\n",
    "closeness_centrality = list(nx.closeness_centrality(networkx_graph).items())\n",
    "betweenness_centrality = list(nx.betweenness_centrality(networkx_graph).items())\n",
    "eigenvector_centrality = list(nx.eigenvector_centrality(networkx_graph, max_iter=600).items())\n",
    "pagerank = list(nx.pagerank(networkx_graph, alpha=0.85, max_iter=600).items())\n",
    "\n",
    "def make_dict(nodes_with_metric):\n",
    "    result = {}\n",
    "    for index, element in nodes_with_metric:\n",
    "        result[index] = element\n",
    "    return result\n",
    "\n",
    "degree_centrality_dict = make_dict(degree_centrality)\n",
    "closeness_centrality_dict = make_dict(closeness_centrality)\n",
    "betweenness_centrality_dict = make_dict(betweenness_centrality)\n",
    "eigenvector_centrality_dict = make_dict(eigenvector_centrality)\n",
    "pagerank_dict = make_dict(pagerank)"
   ]
  },
  {
   "cell_type": "code",
   "execution_count": 74,
   "metadata": {},
   "outputs": [],
   "source": [
    "def make_pyvis_graph(metric_dict, min_metric, max_metric):\n",
    "    pyvis_graph = Network(notebook=True, height=2000)\n",
    "\n",
    "    for friend in friend_set:\n",
    "        min_size = 10\n",
    "        size_factor = 30\n",
    "        size = min_size + (size_factor * (metric_dict[friend] - min_metric) / (max_metric - min_metric))\n",
    "\n",
    "        if friend == id_anton:\n",
    "            color = 'black'\n",
    "        elif friend == id_matvey:\n",
    "            color = 'cyan'\n",
    "        elif friend in anton_friend_nodes and friend in matvey_friend_nodes:\n",
    "            color = 'purple'\n",
    "        elif friend in anton_friend_nodes:\n",
    "            color = 'red'\n",
    "        elif friend in matvey_friend_nodes:\n",
    "            color = 'blue'\n",
    "\n",
    "        pyvis_graph.add_node(friend, label=str(friend) + '\\n' + str(metric_dict[friend]), color = color, size = size)\n",
    "\n",
    "    for friend_pair in friend_edge_set:\n",
    "        pyvis_graph.add_edge(friend_pair[0], friend_pair[1])\n",
    "\n",
    "    return pyvis_graph"
   ]
  },
  {
   "cell_type": "code",
   "execution_count": 75,
   "metadata": {},
   "outputs": [
    {
     "name": "stdout",
     "output_type": "stream",
     "text": [
      "Local cdn resources have problems on chrome/safari when used in jupyter-notebook. \n",
      "Local cdn resources have problems on chrome/safari when used in jupyter-notebook. \n",
      "Local cdn resources have problems on chrome/safari when used in jupyter-notebook. \n",
      "Local cdn resources have problems on chrome/safari when used in jupyter-notebook. \n",
      "Local cdn resources have problems on chrome/safari when used in jupyter-notebook. \n"
     ]
    }
   ],
   "source": [
    "pyvis_degree_centrality_graph = make_pyvis_graph(degree_centrality_dict, min(degree_centrality_dict.values()), max(degree_centrality_dict.values()))\n",
    "pyvis_closeness_centrality_graph = make_pyvis_graph(closeness_centrality_dict, min(closeness_centrality_dict.values()), max(closeness_centrality_dict.values()))\n",
    "pyvis_betweenness_centrality_graph = make_pyvis_graph(betweenness_centrality_dict, min(betweenness_centrality_dict.values()), max(betweenness_centrality_dict.values()))\n",
    "pyvis_eigenvector_centrality_graph = make_pyvis_graph(eigenvector_centrality_dict, min(eigenvector_centrality_dict.values()), max(eigenvector_centrality_dict.values()))\n",
    "pyvis_pagerank_graph = make_pyvis_graph(pagerank_dict, min(pagerank_dict.values()), max(pagerank_dict.values()))"
   ]
  },
  {
   "cell_type": "code",
   "execution_count": 84,
   "metadata": {},
   "outputs": [
    {
     "data": {
      "text/html": [
       "\n",
       "        <iframe\n",
       "            width=\"100%\"\n",
       "            height=\"2000\"\n",
       "            src=\"pagerank.html\"\n",
       "            frameborder=\"0\"\n",
       "            allowfullscreen\n",
       "            \n",
       "        ></iframe>\n",
       "        "
      ],
      "text/plain": [
       "<IPython.lib.display.IFrame at 0x13f34372f60>"
      ]
     },
     "execution_count": 84,
     "metadata": {},
     "output_type": "execute_result"
    }
   ],
   "source": [
    "pyvis_degree_centrality_graph.show(str(Path('degree_centrality.html')))\n",
    "pyvis_closeness_centrality_graph.show(str(Path('closeness_centrality.html')))\n",
    "pyvis_betweenness_centrality_graph.show(str(Path('betweenness_centrality.html')))\n",
    "pyvis_eigenvector_centrality_graph.show(str(Path('eigenvector_centrality.html')))\n",
    "pyvis_pagerank_graph.show(str(Path('pagerank.html')))"
   ]
  }
 ],
 "metadata": {
  "kernelspec": {
   "display_name": "Python 3",
   "language": "python",
   "name": "python3"
  },
  "language_info": {
   "codemirror_mode": {
    "name": "ipython",
    "version": 3
   },
   "file_extension": ".py",
   "mimetype": "text/x-python",
   "name": "python",
   "nbconvert_exporter": "python",
   "pygments_lexer": "ipython3",
   "version": "3.10.12"
  }
 },
 "nbformat": 4,
 "nbformat_minor": 2
}
