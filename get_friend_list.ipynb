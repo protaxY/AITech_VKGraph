{
 "cells": [
  {
   "cell_type": "code",
   "execution_count": 5,
   "metadata": {},
   "outputs": [],
   "source": [
    "import time\n",
    "\n",
    "import vk\n",
    "from pyvis.network import Network"
   ]
  },
  {
   "cell_type": "code",
   "execution_count": 6,
   "metadata": {},
   "outputs": [],
   "source": [
    "token = 'vk1.a.yDBY6lSHQbHsWUTSvPuZx9oL_huBPwJBiwQMoJ0mQ1z-Zh_PNf3rGvkXDS1nD2W8T00YKtnne5uafFkl4UPofb8tjbZOBWrVeZPsj8h4WUP57OeUWe2Q_EXkdJtsDEZPPvL7kltAy_xjJTxezPkbyajx6dCbpdq1NMmDzBk_vogTdAOZ23KYgdRUSv03_tzBT0d46syrGdjk9Z3HXdccow'\n",
    "vk_api = vk.API(token, v='5.131')"
   ]
  },
  {
   "cell_type": "code",
   "execution_count": 7,
   "metadata": {},
   "outputs": [],
   "source": [
    "max_friends_per_friend = 100\n",
    "def get_user_graph(user_id):\n",
    "    friends = vk_api.friends.get(user_id=user_id)['items']\n",
    "    friends_of_friends_dict = {}\n",
    "    friends_set = set()\n",
    "    friends_edges_set = set()\n",
    "\n",
    "    for friend in friends:\n",
    "        try:\n",
    "            friends_of_friends = vk_api.friends.get(user_id=friend)['items']\n",
    "        except Exception:\n",
    "            continue # если пользователь удален\n",
    "        if len(friends_of_friends) > max_friends_per_friend:\n",
    "            continue\n",
    "        friends_of_friends_dict[friend] = friends_of_friends\n",
    "        \n",
    "        friends_set.add(friend)\n",
    "        for friend_of_friend in friends_of_friends_dict[friend]:\n",
    "            friends_set.add(friend_of_friend)\n",
    "            friend_pair = [friend, friend_of_friend]\n",
    "            friend_pair.sort()\n",
    "            friends_edges_set.add(tuple(friend_pair))\n",
    "        time.sleep(0.1) # потому что ограничение на количество запросов в секунду\n",
    "\n",
    "    return friends_set, friends_edges_set"
   ]
  },
  {
   "cell_type": "code",
   "execution_count": 8,
   "metadata": {},
   "outputs": [],
   "source": [
    "id_anton = 243317609\n",
    "id_matvey = 207227130\n",
    "\n",
    "anton_friend_nodes, anton_friend_edges = get_user_graph(id_anton)\n",
    "matvey_friend_nodes, matvey_friend_edges = get_user_graph(id_matvey)"
   ]
  },
  {
   "cell_type": "code",
   "execution_count": 9,
   "metadata": {},
   "outputs": [],
   "source": [
    "friend_set = anton_friend_nodes.union(matvey_friend_nodes)\n",
    "friend_edge_set = anton_friend_edges.union(matvey_friend_edges)"
   ]
  },
  {
   "cell_type": "code",
   "execution_count": 10,
   "metadata": {},
   "outputs": [
    {
     "name": "stdout",
     "output_type": "stream",
     "text": [
      "Local cdn resources have problems on chrome/safari when used in jupyter-notebook. \n"
     ]
    }
   ],
   "source": [
    "graph = Network(notebook=True)\n",
    "\n",
    "for friend in friend_set:\n",
    "    graph.add_node(friend, label=str(friend))\n",
    "\n",
    "for friend_pair in friend_edge_set:\n",
    "    graph.add_edge(friend_pair[0], friend_pair[1])"
   ]
  },
  {
   "cell_type": "code",
   "execution_count": 11,
   "metadata": {},
   "outputs": [
    {
     "data": {
      "text/html": [
       "\n",
       "        <iframe\n",
       "            width=\"100%\"\n",
       "            height=\"600px\"\n",
       "            src=\"graph.html\"\n",
       "            frameborder=\"0\"\n",
       "            allowfullscreen\n",
       "            \n",
       "        ></iframe>\n",
       "        "
      ],
      "text/plain": [
       "<IPython.lib.display.IFrame at 0x208c0d86b10>"
      ]
     },
     "execution_count": 11,
     "metadata": {},
     "output_type": "execute_result"
    }
   ],
   "source": [
    "graph.show(\"graph.html\")"
   ]
  }
 ],
 "metadata": {
  "kernelspec": {
   "display_name": "Python 3",
   "language": "python",
   "name": "python3"
  },
  "language_info": {
   "codemirror_mode": {
    "name": "ipython",
    "version": 3
   },
   "file_extension": ".py",
   "mimetype": "text/x-python",
   "name": "python",
   "nbconvert_exporter": "python",
   "pygments_lexer": "ipython3",
   "version": "3.12.3"
  }
 },
 "nbformat": 4,
 "nbformat_minor": 2
}
