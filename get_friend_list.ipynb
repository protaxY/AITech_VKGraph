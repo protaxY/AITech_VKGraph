{
 "cells": [
  {
   "cell_type": "code",
   "execution_count": 2,
   "metadata": {},
   "outputs": [],
   "source": [
    "import time\n",
    "from pathlib import Path\n",
    "\n",
    "import vk\n",
    "import os\n",
    "from pyvis.network import Network\n",
    "from dotenv import load_dotenv\n",
    "import networkx as nx"
   ]
  },
  {
   "cell_type": "code",
   "execution_count": 3,
   "metadata": {},
   "outputs": [],
   "source": [
    "load_dotenv(Path('config/.env'))\n",
    "\n",
    "token = ''\n",
    "try:\n",
    "    token = os.environ['VK_ACCESS_TOKEN']\n",
    "except KeyError:\n",
    "    print(\"You need to enter your access token from https://vkhost.github.io/ into env VK_ACCESS_TOKEN\")\n",
    "    exit(1)\n",
    "\n",
    "vk_api = vk.API(token, v='5.131')"
   ]
  },
  {
   "cell_type": "code",
   "execution_count": 4,
   "metadata": {},
   "outputs": [],
   "source": [
    "def get_friends(id, depth):\n",
    "    try:\n",
    "        return [(friend_id, depth + 1) for friend_id in vk_api.friends.get(user_id=id)['items']]\n",
    "    except Exception as e:\n",
    "        print(e)\n",
    "        return [] # если профиль закрыт или удален"
   ]
  },
  {
   "cell_type": "code",
   "execution_count": null,
   "metadata": {},
   "outputs": [],
   "source": [
    "root_users = [243317609, 207227130]\n",
    "max_depth = 3\n",
    "max_friends = 100\n",
    "\n",
    "nodes = set()\n",
    "nodes_per_depth = [ set() for _ in range(max_depth) ]\n",
    "edges = set()\n",
    "used = set()\n",
    "\n",
    "end_nodes = set()\n",
    "\n",
    "queue = [(id, 0) for id in root_users]\n",
    "while len(queue) != 0:\n",
    "    node = queue.pop(0)\n",
    "    if node[0] in used:\n",
    "        continue\n",
    "    \n",
    "    friends = get_friends(*node)\n",
    "    if (len(friends) > max_friends and node[1] > 0):\n",
    "        continue\n",
    "    nodes.add(node[0])\n",
    "    nodes_per_depth[node[1]].add(node)\n",
    "\n",
    "    for friend in friends:\n",
    "        if (friend[1] < max_depth):\n",
    "            queue.append(friend)\n",
    "            \n",
    "            edge = [node[0], friend[0]]\n",
    "            edge.sort()\n",
    "            edges.add(tuple(edge))\n",
    "        else:\n",
    "            end_nodes.add(node[0])\n",
    "\n",
    "    used.add(node[0])\n",
    "    time.sleep(0.2)"
   ]
  },
  {
   "cell_type": "code",
   "execution_count": 5,
   "metadata": {},
   "outputs": [],
   "source": [
    "for end_node in end_nodes:\n",
    "    friends = get_friends(node, max_depth - 1)\n",
    "    for friend in friends:\n",
    "        if friend in nodes:\n",
    "            edge = [node[0], friend[0]]\n",
    "            edge.sort()\n",
    "            edges.add(tuple(edge))\n",
    "        \n",
    "        time.sleep(0.1)\n",
    "    time.sleep(0.1)"
   ]
  },
  {
   "cell_type": "code",
   "execution_count": 6,
   "metadata": {},
   "outputs": [],
   "source": [
    "networkx_graph = nx.Graph()\n",
    "networkx_graph.add_nodes_from(nodes)\n",
    "networkx_graph.add_edges_from(edges)"
   ]
  },
  {
   "cell_type": "code",
   "execution_count": 7,
   "metadata": {},
   "outputs": [],
   "source": [
    "degree_centrality = list(nx.degree_centrality(networkx_graph).items())\n",
    "closeness_centrality = list(nx.closeness_centrality(networkx_graph).items())\n",
    "betweenness_centrality = list(nx.betweenness_centrality(networkx_graph).items())\n",
    "eigenvector_centrality = list(nx.eigenvector_centrality(networkx_graph, max_iter=600).items())\n",
    "pagerank = list(nx.pagerank(networkx_graph, alpha=0.85, max_iter=600).items())\n",
    "\n",
    "def make_dict(nodes_with_metric):\n",
    "    result = {}\n",
    "    for index, element in nodes_with_metric:\n",
    "        result[index] = element\n",
    "    return result\n",
    "\n",
    "degree_centrality_dict = make_dict(degree_centrality)\n",
    "closeness_centrality_dict = make_dict(closeness_centrality)\n",
    "betweenness_centrality_dict = make_dict(betweenness_centrality)\n",
    "eigenvector_centrality_dict = make_dict(eigenvector_centrality)\n",
    "pagerank_dict = make_dict(pagerank)"
   ]
  },
  {
   "cell_type": "code",
   "execution_count": 8,
   "metadata": {},
   "outputs": [],
   "source": [
    "def make_pyvis_graph(metric_dict, min_metric, max_metric):\n",
    "    pyvis_graph = Network(notebook=True, height=2000)\n",
    "\n",
    "    for friend in nodes:\n",
    "        min_size = 10\n",
    "        size_factor = 30\n",
    "        size = min_size + (size_factor * (metric_dict[friend] - min_metric) / (max_metric - min_metric))\n",
    "\n",
    "        if (friend, 0) in nodes_per_depth[0]:\n",
    "            color = 'green'\n",
    "        if (friend, 1) in nodes_per_depth[1]:\n",
    "            color = 'yellow'\n",
    "        if (friend, 2) in nodes_per_depth[2]:\n",
    "            color = 'red'\n",
    "\n",
    "        pyvis_graph.add_node(friend, label=str(friend) + '\\n' + str(metric_dict[friend]), color = color, size = size)\n",
    "\n",
    "    for friend_pair in edges:\n",
    "        if (friend_pair[0] in nodes and friend_pair[1] in nodes):\n",
    "            pyvis_graph.add_edge(friend_pair[0], friend_pair[1], color = 'grey')    \n",
    "\n",
    "    return pyvis_graph"
   ]
  },
  {
   "cell_type": "code",
   "execution_count": null,
   "metadata": {},
   "outputs": [],
   "source": [
    "pyvis_degree_centrality_graph = make_pyvis_graph(degree_centrality_dict, min(degree_centrality_dict.values()), max(degree_centrality_dict.values()))\n",
    "pyvis_closeness_centrality_graph = make_pyvis_graph(closeness_centrality_dict, min(closeness_centrality_dict.values()), max(closeness_centrality_dict.values()))\n",
    "pyvis_betweenness_centrality_graph = make_pyvis_graph(betweenness_centrality_dict, min(betweenness_centrality_dict.values()), max(betweenness_centrality_dict.values()))\n",
    "pyvis_eigenvector_centrality_graph = make_pyvis_graph(eigenvector_centrality_dict, min(eigenvector_centrality_dict.values()), max(eigenvector_centrality_dict.values()))\n",
    "pyvis_pagerank_graph = make_pyvis_graph(pagerank_dict, min(pagerank_dict.values()), max(pagerank_dict.values()))"
   ]
  },
  {
   "cell_type": "code",
   "execution_count": null,
   "metadata": {},
   "outputs": [],
   "source": [
    "pyvis_degree_centrality_graph.show_buttons(filter_=['physics'])\n",
    "pyvis_closeness_centrality_graph.show_buttons(filter_=['physics'])\n",
    "pyvis_betweenness_centrality_graph.show_buttons(filter_=['physics'])\n",
    "pyvis_eigenvector_centrality_graph.show_buttons(filter_=['physics'])\n",
    "pyvis_pagerank_graph.show_buttons(filter_=['physics'])\n",
    "\n",
    "pyvis_degree_centrality_graph.show(str(Path('degree_centrality.html')))\n",
    "pyvis_closeness_centrality_graph.show(str(Path('closeness_centrality.html')))\n",
    "pyvis_betweenness_centrality_graph.show(str(Path('betweenness_centrality.html')))\n",
    "pyvis_eigenvector_centrality_graph.show(str(Path('eigenvector_centrality.html')))\n",
    "pyvis_pagerank_graph.show(str(Path('pagerank.html')))"
   ]
  },
  {
   "cell_type": "code",
   "execution_count": null,
   "metadata": {},
   "outputs": [],
   "source": [
    "print(f'количетсво узлов: {len(nodes)}')\n",
    "print(f'количетсво ребер: {len(edges)}')"
   ]
  },
  {
   "cell_type": "code",
   "execution_count": null,
   "metadata": {},
   "outputs": [],
   "source": []
  }
 ],
 "metadata": {
  "kernelspec": {
   "display_name": "Python 3",
   "language": "python",
   "name": "python3"
  },
  "language_info": {
   "codemirror_mode": {
    "name": "ipython",
    "version": 3
   },
   "file_extension": ".py",
   "mimetype": "text/x-python",
   "name": "python",
   "nbconvert_exporter": "python",
   "pygments_lexer": "ipython3",
   "version": "3.12.3"
  }
 },
 "nbformat": 4,
 "nbformat_minor": 2
}
